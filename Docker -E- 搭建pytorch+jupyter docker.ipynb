{
 "cells": [
  {
   "cell_type": "markdown",
   "id": "ec9d5a3c",
   "metadata": {},
   "source": [
    "为了开发使用方便，搭建一套可直接运行的pytorch + jupyter的docker\n",
    "\n",
    "### 一，下载pytorch docker\n",
    "`docker pull pytorch/pytorch:1.6.0-cuda10.1-cudnn7-runtime`"
   ]
  },
  {
   "cell_type": "markdown",
   "id": "00df532d",
   "metadata": {},
   "source": [
    "### 二，安装 Jupyter\n",
    "1. 运行 pytorch 容器: `nvidia-docker run -it --network=host -d pytorch/pytorch:1.6.0-cuda10.1-cudnn7-runtime`\n",
    "2. 进入容器: `docker exec -it xxxx(容器ID)`\n",
    "3. 安装jupyter: `pip install jupyter`\n",
    "4. 生成配置文件: `jupyter notebook --generate-config`<br>\n",
    "如果使用root用户生成的配置文件路径为  `/root/.jupyter/jupyter_notebook_config.py`\n",
    "5. 生成密码: `jupyter notebook password`<br>\n",
    "密码会直接写入搭配配置文件中<br>\n",
    "`\n",
    "Enter password: \n",
    "Verify password: \n",
    "[NotebookPasswordApp] Wrote hashed password to /root/.jupyter/jupyter_notebook_config.json\n",
    "`\n",
    "\n",
    "6. 启动程序:\n",
    "`jupyter notebook --ip=0.0.0.0 --no-browser --allow-root`<br>\n",
    "注：也可以通过修改配置文件配置地址及端口号<br>\n",
    "`\n",
    "/root/.jupyter/jupyter_notebook_config.json\n",
    "{\n",
    "  \"NotebookApp\": {\n",
    "    \"password\": \"xxxxx\",\n",
    "    \"ip\": \"0.0.0.0\",\n",
    "    \"port\": 8888\n",
    "  }\n",
    "}`\n",
    "\n",
    "`jupyter notebook --no-browser --allow-root`\n",
    "\n",
    "7. 保存docker镜像:\n",
    "`docker commit xxxx（容器ID） pytorch/pytorch_jupyter:1.6.0-cuda10.1-cudnn7-runtime`\n",
    "\n",
    "之后可以直接运行使用保存的docker镜像"
   ]
  },
  {
   "cell_type": "code",
   "execution_count": null,
   "id": "04e4318c",
   "metadata": {},
   "outputs": [],
   "source": []
  }
 ],
 "metadata": {
  "kernelspec": {
   "display_name": "pt(new)",
   "language": "python",
   "name": "pt"
  },
  "language_info": {
   "codemirror_mode": {
    "name": "ipython",
    "version": 3
   },
   "file_extension": ".py",
   "mimetype": "text/x-python",
   "name": "python",
   "nbconvert_exporter": "python",
   "pygments_lexer": "ipython3",
   "version": "3.7.11"
  }
 },
 "nbformat": 4,
 "nbformat_minor": 5
}
