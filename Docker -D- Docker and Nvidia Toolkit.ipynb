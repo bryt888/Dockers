{
 "cells": [
  {
   "cell_type": "markdown",
   "id": "a549b1e2",
   "metadata": {},
   "source": [
    "Article Link:https://www.tnnidm.com/install-nvidia-docker-in-ubuntu/"
   ]
  },
  {
   "cell_type": "markdown",
   "id": "f3849f08",
   "metadata": {},
   "source": [
    "## 0. 搭建环境\n",
    "Ubuntu 22.04 LTS desktop版\n",
    "\n",
    "下面所有的命令都是在root用户下运行的，所以请先获得管理员权限。\n",
    "\n",
    "### 1. 安装docker\n",
    "#### 1.1 设置仓库\n",
    "`\n",
    "apt update # 更新源\n",
    "apt install ca-certificates curl gnupg lsb-release # 安装依赖\n",
    "curl -fsSL https://download.docker.com/linux/ubuntu/gpg | sudo gpg --dearmor -o /usr/share/keyrings/docker-archive-keyring.gpg # 将官方Docker存储库的GPG密钥添加到系统\n",
    "echo \"deb [arch=$(dpkg --print-architecture) signed-by=/usr/share/keyrings/docker-archive-keyring.gpg] https://download.docker.com/linux/ubuntu \\\n",
    "  $(lsb_release -cs) stable\" | sudo tee /etc/apt/sources.list.d/docker.list > /dev/null # 设置稳定的仓库。\n",
    "`\n",
    "\n",
    "#### 1.2 安装docker-ce和配套\n",
    "`\n",
    "apt update # 上一步设置仓库后，要更新源\n",
    "apt install docker-ce docker-ce-cli containerd.io docker-compose-plugin # 安装docker-ce和配套\n",
    "`"
   ]
  },
  {
   "cell_type": "markdown",
   "id": "d0585ff0",
   "metadata": {},
   "source": [
    "### 2. 安装nvidia驱动\n",
    "`\n",
    "ubuntu-drivers devices # 查看显卡型号和推荐的驱动\n",
    "ubuntu-drivers autoinstall # 自动安装推荐的驱动\n",
    "`\n",
    "\n",
    "如果对驱动版本有特殊的需求，apt install 需要的版本即可。"
   ]
  },
  {
   "cell_type": "markdown",
   "id": "e95f03f1",
   "metadata": {},
   "source": [
    "### 3. 安装nvidia-docker2\n",
    "#### 3.1 设置仓库和GPG密钥\n",
    "`\n",
    "distribution=$(. /etc/os-release;echo $ID$VERSION_ID) \\\n",
    "      && curl -fsSL https://nvidia.github.io/libnvidia-container/gpgkey | sudo gpg --dearmor -o /usr/share/keyrings/nvidia-container-toolkit-keyring.gpg \\\n",
    "      && curl -s -L https://nvidia.github.io/libnvidia-container/$distribution/libnvidia-container.list | \\\n",
    "            sed 's#deb https://#deb [signed-by=/usr/share/keyrings/nvidia-container-toolkit-keyring.gpg] https://#g' | \\\n",
    "            sudo tee /etc/apt/sources.list.d/nvidia-container-toolkit.list\n",
    "`\n",
    "\n",
    "#### 3.2 更新源并安装nvidia-docker\n",
    "`\n",
    "apt update # 更新源\n",
    "apt install -y nvidia-docker2 # 安装nvidia-docker\n",
    "systemctl restart docker # 重启docker\n",
    "`\n",
    "\n",
    "#### 3.3 上DockerHub查需要的pytorch/pytorch镜像版本，如果没有特定版本需求，拉pytorch/pytorch:latest即可\n",
    "`docker pull pytorch/pytorch[:tag]`\n",
    "\n",
    "#### 3.4 直接使用这个镜像测试一下，容器内能正常打印nvidia-smi就OK了。\n",
    "`docker run -rm --gpus all pytorch/pytorch nvidia-smi`\n"
   ]
  },
  {
   "cell_type": "markdown",
   "id": "25b52d13",
   "metadata": {},
   "source": [
    "### 4. docker换源\n",
    "安装nvidia-docker2会覆盖docker的daemon文件，所以之前换过源的需要重新写入一次daemon文件。在/etc/docker/daemon.json后追加下面内容\n",
    "`\n",
    "{\n",
    "  \"registry-mirrors\": [\n",
    "    \"https://registry.docker-cn.com\",\n",
    "    \"https://docker.mirrors.ustc.edu.cn\",\n",
    "    \"https://hub-mirror.c.163.com\"\n",
    "  ]\n",
    "}\n",
    "`"
   ]
  },
  {
   "cell_type": "markdown",
   "id": "b1640a28",
   "metadata": {},
   "source": [
    "### 5. 修改docker的镜像存储地址到机械硬盘上\n",
    "#### 5.1 docker容器和镜像的存储地址默认是/var/lib/docker,这大概率是在系统盘上。如果你的系统盘不是特别大，最好把默认存储地址设置到机械硬盘上。\n",
    "`docker info | grep \"Docker Root Dir\"  # 查看docker对象存储位置 \n",
    "#基本默认都是/var/lib/docker`\n",
    "\n",
    "#### 5.2 备份已有镜像（如果你有的话）\n",
    "`docker save -o filename.tar image_name`\n",
    "\n",
    "#### 5.3 以软连接的方式更改 Docker 镜像存储路径\n",
    "`#停止 docker\n",
    "service docker stop` \n",
    "\n",
    "`#移动到新路径\n",
    "mv /var/lib/docker /某个机械硬盘上的地址\n",
    "#创建软连接\n",
    "ln -s /某个机械硬盘上的地址/docker /var/lib/docker `\n",
    "\n",
    "`#启动 docker\n",
    "service docker start `\n",
    "\n",
    "\n",
    "#### 5.4 或者可以以修改配置文件的方式更新 docker 的默认镜像存储路径\n",
    "`#停止 docker\n",
    "service docker stop`\n",
    "\n",
    "`#编辑文件 docker-overlay.conf\n",
    "cd /etc/systemd/system/docker.service.d # 如果没有docker.service.d 则创建该路径\n",
    "vim docker-overlay.conf  # 如果没有则创建该文件`\n",
    "\n",
    "在文件中添加如下内容：\n",
    "\n",
    "`[Service]\n",
    "ExecStart=/usr/bin/dockerd --graph=/某个机械硬盘上的地址/docker --storage-driver=overlay`\n",
    "\n",
    "#### 5.5重新启动 docker\n",
    "`\n",
    "systemctl daemon-reload # 重新载入daemon\n",
    "service docker start \n",
    "docker info | grep \"Docker Root Dir\" # 检查保存地址\n",
    "reboot # 重启\n",
    "docker info | grep \"Docker Root Dir\" # 再检查一次保存地址\n",
    "`"
   ]
  },
  {
   "cell_type": "markdown",
   "id": "33a210fb",
   "metadata": {},
   "source": [
    "### 6.打开一个pytorch容器\n",
    "`\n",
    "#拉取pytorch镜像\n",
    "docker pull pytorch/pytorch[:tag] # 或者换成你需要的版本的pytorch镜像\n",
    "#开一个样板镜像，使用nvidia-docker最重要的参数是--gpus\n",
    "docker run --gpus all -it --name test pytorch/pytorch /bin/bash\n",
    "`\n",
    "\n",
    "然后你就进入名字为test的容器内了。\n",
    "\n",
    "容器内置配好pytorch的python3在/opt/conda/bin/python。\n",
    "\n",
    "`\n",
    "#运行python<br>\n",
    "/opt/conda/bin/python`<br>\n",
    "`>> import torch`<br>\n",
    "`>> print(torch.__version__) # 查看pytorch版本`<br>\n",
    "`>> print(torch.cuda.is_available()) # 查看cuda是否可用`\n",
    "\n",
    "\n",
    "如果正常打印，应该就OK了，愉快使用吧 😃"
   ]
  },
  {
   "cell_type": "markdown",
   "id": "9ec6f9e2",
   "metadata": {},
   "source": [
    "Docker容器中使用GPU (https://cloud.tencent.com/developer/article/1915861?from=article.detail.1924792&areaSource=106000.2&traceId=HRvH10rOkyaAXfR0VxZRN)\n",
    "\n",
    "容器内如何使用GPU卡 (https://cloud.tencent.com/developer/article/1494059?from=article.detail.1924792&areaSource=106000.3&traceId=HRvH10rOkyaAXfR0VxZRN)"
   ]
  },
  {
   "cell_type": "code",
   "execution_count": null,
   "id": "98d30211",
   "metadata": {},
   "outputs": [],
   "source": []
  }
 ],
 "metadata": {
  "kernelspec": {
   "display_name": "pt(new)",
   "language": "python",
   "name": "pt"
  },
  "language_info": {
   "codemirror_mode": {
    "name": "ipython",
    "version": 3
   },
   "file_extension": ".py",
   "mimetype": "text/x-python",
   "name": "python",
   "nbconvert_exporter": "python",
   "pygments_lexer": "ipython3",
   "version": "3.7.11"
  }
 },
 "nbformat": 4,
 "nbformat_minor": 5
}
